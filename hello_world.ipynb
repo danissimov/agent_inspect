{
 "cells": [
  {
   "cell_type": "code",
   "execution_count": 1,
   "metadata": {},
   "outputs": [],
   "source": [
    "from inspect_ai import eval, Task, task\n",
    "from inspect_ai.dataset import Sample\n",
    "from inspect_ai.scorer import Score, Target, accuracy, scorer\n",
    "from inspect_ai.solver import Plan, TaskState, generate, use_tools, basic_agent\n",
    "from inspect_ai.tool import bash\n",
    "from inspect_ai.util import sandbox"
   ]
  },
  {
   "cell_type": "code",
   "execution_count": 2,
   "metadata": {},
   "outputs": [],
   "source": [
    "@scorer(metrics=[accuracy()])\n",
    "def check_file_exists():\n",
    "    async def score(state: TaskState, target: Target):\n",
    "        try:\n",
    "            output = await sandbox().exec('ls')\n",
    "            print(output)\n",
    "            _ = await sandbox().read_file(target.text)\n",
    "            exists = True\n",
    "        except FileNotFoundError:\n",
    "            exists = False\n",
    "        return Score(value=1 if exists else 0)\n",
    "\n",
    "    return score"
   ]
  },
  {
   "cell_type": "code",
   "execution_count": 3,
   "metadata": {},
   "outputs": [],
   "source": [
    "agent = basic_agent(tools=[bash()])"
   ]
  },
  {
   "cell_type": "code",
   "execution_count": 4,
   "metadata": {},
   "outputs": [],
   "source": [
    "@task\n",
    "def hello_world_challenge() -> Task:\n",
    "    return Task(\n",
    "        dataset=[\n",
    "            Sample(\n",
    "                input=(\n",
    "                    \"Create a file called `hello-world.txt`. \"\n",
    "                    \"When you have finished, submit the string 'submit'.\"  # Without this, the agent is liable to loop until it hits its limits.\n",
    "                ),\n",
    "                target=\"hello-world.txt\",\n",
    "            )\n",
    "        ],\n",
    "        # solver=[use_tools([bash()]), generate()],\n",
    "        solver=agent,\n",
    "        sandbox=\"local\",\n",
    "        scorer=check_file_exists(),\n",
    "    )"
   ]
  },
  {
   "cell_type": "code",
   "execution_count": 5,
   "metadata": {},
   "outputs": [
    {
     "data": {
      "application/vnd.jupyter.widget-view+json": {
       "model_id": "69e931105ae042edbac79518a2734899",
       "version_major": 2,
       "version_minor": 0
      },
      "text/plain": [
       "Output()"
      ]
     },
     "metadata": {},
     "output_type": "display_data"
    },
    {
     "data": {
      "text/html": [
       "<pre style=\"white-space:pre;overflow-x:auto;line-height:normal;font-family:Menlo,'DejaVu Sans Mono',consolas,'Courier New',monospace\"><span style=\"color: #800000; text-decoration-color: #800000\">┌────────────────────────────────────── </span><span style=\"color: #800000; text-decoration-color: #800000; font-weight: bold\">Traceback </span><span style=\"color: #bf7f7f; text-decoration-color: #bf7f7f; font-weight: bold\">(most recent call last)</span><span style=\"color: #800000; text-decoration-color: #800000\"> ───────────────────────────────────────┐</span>\n",
       "<span style=\"color: #800000; text-decoration-color: #800000\">│</span> <span style=\"color: #808000; text-decoration-color: #808000\">c:\\Users\\Daniil Anisimov\\.conda\\envs\\redvenv\\Lib\\site-packages\\inspect_ai\\_eval\\task\\run.py</span>:<span style=\"color: #0000ff; text-decoration-color: #0000ff\">322</span> in <span style=\"color: #00ff00; text-decoration-color: #00ff00\">task_run</span>    <span style=\"color: #800000; text-decoration-color: #800000\">│</span>\n",
       "<span style=\"color: #800000; text-decoration-color: #800000\">│</span>                                                                                                                <span style=\"color: #800000; text-decoration-color: #800000\">│</span>\n",
       "<span style=\"color: #800000; text-decoration-color: #800000\">│</span> <span style=\"color: #808000; text-decoration-color: #808000\">c:\\Users\\Daniil Anisimov\\.conda\\envs\\redvenv\\Lib\\asyncio\\tasks.py</span>:<span style=\"color: #0000ff; text-decoration-color: #0000ff\">385</span> in <span style=\"color: #00ff00; text-decoration-color: #00ff00\">__wakeup</span>                              <span style=\"color: #800000; text-decoration-color: #800000\">│</span>\n",
       "<span style=\"color: #800000; text-decoration-color: #800000\">│</span>                                                                                                                <span style=\"color: #800000; text-decoration-color: #800000\">│</span>\n",
       "<span style=\"color: #800000; text-decoration-color: #800000\">│</span> <span style=\"color: #808000; text-decoration-color: #808000\">c:\\Users\\Daniil Anisimov\\.conda\\envs\\redvenv\\Lib\\asyncio\\tasks.py</span>:<span style=\"color: #0000ff; text-decoration-color: #0000ff\">316</span> in <span style=\"color: #00ff00; text-decoration-color: #00ff00\">__step_run_and_handle_result</span>          <span style=\"color: #800000; text-decoration-color: #800000\">│</span>\n",
       "<span style=\"color: #800000; text-decoration-color: #800000\">│</span>                                                                                                                <span style=\"color: #800000; text-decoration-color: #800000\">│</span>\n",
       "<span style=\"color: #800000; text-decoration-color: #800000\">│</span> <span style=\"color: #808000; text-decoration-color: #808000\">c:\\Users\\Daniil Anisimov\\.conda\\envs\\redvenv\\Lib\\site-packages\\inspect_ai\\_eval\\task\\run.py</span>:<span style=\"color: #0000ff; text-decoration-color: #0000ff\">705</span> in             <span style=\"color: #800000; text-decoration-color: #800000\">│</span>\n",
       "<span style=\"color: #800000; text-decoration-color: #800000\">│</span> <span style=\"color: #00ff00; text-decoration-color: #00ff00\">task_run_sample</span>                                                                                                <span style=\"color: #800000; text-decoration-color: #800000\">│</span>\n",
       "<span style=\"color: #800000; text-decoration-color: #800000\">│</span>                                                                                                                <span style=\"color: #800000; text-decoration-color: #800000\">│</span>\n",
       "<span style=\"color: #800000; text-decoration-color: #800000\">│</span> <span style=\"color: #808000; text-decoration-color: #808000\">c:\\Users\\Daniil Anisimov\\.conda\\envs\\redvenv\\Lib\\site-packages\\inspect_ai\\_eval\\task\\run.py</span>:<span style=\"color: #0000ff; text-decoration-color: #0000ff\">540</span> in             <span style=\"color: #800000; text-decoration-color: #800000\">│</span>\n",
       "<span style=\"color: #800000; text-decoration-color: #800000\">│</span> <span style=\"color: #00ff00; text-decoration-color: #00ff00\">handle_error</span>                                                                                                   <span style=\"color: #800000; text-decoration-color: #800000\">│</span>\n",
       "<span style=\"color: #800000; text-decoration-color: #800000\">│</span>                                                                                                                <span style=\"color: #800000; text-decoration-color: #800000\">│</span>\n",
       "<span style=\"color: #800000; text-decoration-color: #800000\">│</span> <span style=\"color: #808000; text-decoration-color: #808000\">c:\\Users\\Daniil Anisimov\\.conda\\envs\\redvenv\\Lib\\site-packages\\inspect_ai\\_eval\\task\\error.py</span>:<span style=\"color: #0000ff; text-decoration-color: #0000ff\">22</span> in <span style=\"color: #00ff00; text-decoration-color: #00ff00\">__call__</span>   <span style=\"color: #800000; text-decoration-color: #800000\">│</span>\n",
       "<span style=\"color: #800000; text-decoration-color: #800000\">│</span>                                                                                                                <span style=\"color: #800000; text-decoration-color: #800000\">│</span>\n",
       "<span style=\"color: #800000; text-decoration-color: #800000\">│</span> <span style=\"color: #808000; text-decoration-color: #808000\">c:\\Users\\Daniil Anisimov\\.conda\\envs\\redvenv\\Lib\\site-packages\\inspect_ai\\_eval\\task\\run.py</span>:<span style=\"color: #0000ff; text-decoration-color: #0000ff\">634</span> in             <span style=\"color: #800000; text-decoration-color: #800000\">│</span>\n",
       "<span style=\"color: #800000; text-decoration-color: #800000\">│</span> <span style=\"color: #00ff00; text-decoration-color: #00ff00\">task_run_sample</span>                                                                                                <span style=\"color: #800000; text-decoration-color: #800000\">│</span>\n",
       "<span style=\"color: #800000; text-decoration-color: #800000\">│</span>                                                                                                                <span style=\"color: #800000; text-decoration-color: #800000\">│</span>\n",
       "<span style=\"color: #800000; text-decoration-color: #800000\">│</span> <span style=\"color: #808000; text-decoration-color: #808000\">c:\\Users\\Daniil Anisimov\\.conda\\envs\\redvenv\\Lib\\site-packages\\inspect_ai\\_eval\\task\\run.py</span>:<span style=\"color: #0000ff; text-decoration-color: #0000ff\">540</span> in             <span style=\"color: #800000; text-decoration-color: #800000\">│</span>\n",
       "<span style=\"color: #800000; text-decoration-color: #800000\">│</span> <span style=\"color: #00ff00; text-decoration-color: #00ff00\">handle_error</span>                                                                                                   <span style=\"color: #800000; text-decoration-color: #800000\">│</span>\n",
       "<span style=\"color: #800000; text-decoration-color: #800000\">│</span>                                                                                                                <span style=\"color: #800000; text-decoration-color: #800000\">│</span>\n",
       "<span style=\"color: #800000; text-decoration-color: #800000\">│</span> <span style=\"color: #808000; text-decoration-color: #808000\">c:\\Users\\Daniil Anisimov\\.conda\\envs\\redvenv\\Lib\\site-packages\\inspect_ai\\_eval\\task\\error.py</span>:<span style=\"color: #0000ff; text-decoration-color: #0000ff\">22</span> in <span style=\"color: #00ff00; text-decoration-color: #00ff00\">__call__</span>   <span style=\"color: #800000; text-decoration-color: #800000\">│</span>\n",
       "<span style=\"color: #800000; text-decoration-color: #800000\">│</span>                                                                                                                <span style=\"color: #800000; text-decoration-color: #800000\">│</span>\n",
       "<span style=\"color: #800000; text-decoration-color: #800000\">│</span> <span style=\"color: #808000; text-decoration-color: #808000\">c:\\Users\\Daniil Anisimov\\.conda\\envs\\redvenv\\Lib\\site-packages\\inspect_ai\\_eval\\task\\run.py</span>:<span style=\"color: #0000ff; text-decoration-color: #0000ff\">592</span> in             <span style=\"color: #800000; text-decoration-color: #800000\">│</span>\n",
       "<span style=\"color: #800000; text-decoration-color: #800000\">│</span> <span style=\"color: #00ff00; text-decoration-color: #00ff00\">task_run_sample</span>                                                                                                <span style=\"color: #800000; text-decoration-color: #800000\">│</span>\n",
       "<span style=\"color: #800000; text-decoration-color: #800000\">│</span>                                                                                                                <span style=\"color: #800000; text-decoration-color: #800000\">│</span>\n",
       "<span style=\"color: #800000; text-decoration-color: #800000\">│</span> <span style=\"color: #808000; text-decoration-color: #808000\">c:\\Users\\Daniil Anisimov\\.conda\\envs\\redvenv\\Lib\\site-packages\\inspect_ai\\solver\\_plan.py</span>:<span style=\"color: #0000ff; text-decoration-color: #0000ff\">105</span> in <span style=\"color: #00ff00; text-decoration-color: #00ff00\">__call__</span>      <span style=\"color: #800000; text-decoration-color: #800000\">│</span>\n",
       "<span style=\"color: #800000; text-decoration-color: #800000\">│</span>                                                                                                                <span style=\"color: #800000; text-decoration-color: #800000\">│</span>\n",
       "<span style=\"color: #800000; text-decoration-color: #800000\">│</span> <span style=\"color: #808000; text-decoration-color: #808000\">c:\\Users\\Daniil Anisimov\\.conda\\envs\\redvenv\\Lib\\site-packages\\inspect_ai\\solver\\_basic_agent.py</span>:<span style=\"color: #0000ff; text-decoration-color: #0000ff\">188</span> in <span style=\"color: #00ff00; text-decoration-color: #00ff00\">solve</span>  <span style=\"color: #800000; text-decoration-color: #800000\">│</span>\n",
       "<span style=\"color: #800000; text-decoration-color: #800000\">│</span>                                                                                                                <span style=\"color: #800000; text-decoration-color: #800000\">│</span>\n",
       "<span style=\"color: #800000; text-decoration-color: #800000\">│</span> <span style=\"color: #808000; text-decoration-color: #808000\">c:\\Users\\Daniil Anisimov\\.conda\\envs\\redvenv\\Lib\\site-packages\\inspect_ai\\model\\_call_tools.py</span>:<span style=\"color: #0000ff; text-decoration-color: #0000ff\">193</span> in          <span style=\"color: #800000; text-decoration-color: #800000\">│</span>\n",
       "<span style=\"color: #800000; text-decoration-color: #800000\">│</span> <span style=\"color: #00ff00; text-decoration-color: #00ff00\">call_tools</span>                                                                                                     <span style=\"color: #800000; text-decoration-color: #800000\">│</span>\n",
       "<span style=\"color: #800000; text-decoration-color: #800000\">│</span>                                                                                                                <span style=\"color: #800000; text-decoration-color: #800000\">│</span>\n",
       "<span style=\"color: #800000; text-decoration-color: #800000\">│</span> <span style=\"color: #808000; text-decoration-color: #808000\">c:\\Users\\Daniil Anisimov\\.conda\\envs\\redvenv\\Lib\\asyncio\\futures.py</span>:<span style=\"color: #0000ff; text-decoration-color: #0000ff\">291</span> in <span style=\"color: #00ff00; text-decoration-color: #00ff00\">__await__</span>                           <span style=\"color: #800000; text-decoration-color: #800000\">│</span>\n",
       "<span style=\"color: #800000; text-decoration-color: #800000\">│</span>                                                                                                                <span style=\"color: #800000; text-decoration-color: #800000\">│</span>\n",
       "<span style=\"color: #800000; text-decoration-color: #800000\">│</span> <span style=\"color: #808000; text-decoration-color: #808000\">c:\\Users\\Daniil Anisimov\\.conda\\envs\\redvenv\\Lib\\asyncio\\tasks.py</span>:<span style=\"color: #0000ff; text-decoration-color: #0000ff\">385</span> in <span style=\"color: #00ff00; text-decoration-color: #00ff00\">__wakeup</span>                              <span style=\"color: #800000; text-decoration-color: #800000\">│</span>\n",
       "<span style=\"color: #800000; text-decoration-color: #800000\">│</span>                                                                                                                <span style=\"color: #800000; text-decoration-color: #800000\">│</span>\n",
       "<span style=\"color: #800000; text-decoration-color: #800000\">│</span> <span style=\"color: #808000; text-decoration-color: #808000\">c:\\Users\\Daniil Anisimov\\.conda\\envs\\redvenv\\Lib\\asyncio\\futures.py</span>:<span style=\"color: #0000ff; text-decoration-color: #0000ff\">203</span> in <span style=\"color: #00ff00; text-decoration-color: #00ff00\">result</span>                              <span style=\"color: #800000; text-decoration-color: #800000\">│</span>\n",
       "<span style=\"color: #800000; text-decoration-color: #800000\">│</span>                                                                                                                <span style=\"color: #800000; text-decoration-color: #800000\">│</span>\n",
       "<span style=\"color: #800000; text-decoration-color: #800000\">│</span> <span style=\"color: #808000; text-decoration-color: #808000\">c:\\Users\\Daniil Anisimov\\.conda\\envs\\redvenv\\Lib\\asyncio\\tasks.py</span>:<span style=\"color: #0000ff; text-decoration-color: #0000ff\">314</span> in <span style=\"color: #00ff00; text-decoration-color: #00ff00\">__step_run_and_handle_result</span>          <span style=\"color: #800000; text-decoration-color: #800000\">│</span>\n",
       "<span style=\"color: #800000; text-decoration-color: #800000\">│</span>                                                                                                                <span style=\"color: #800000; text-decoration-color: #800000\">│</span>\n",
       "<span style=\"color: #800000; text-decoration-color: #800000\">│</span> <span style=\"color: #808000; text-decoration-color: #808000\">c:\\Users\\Daniil Anisimov\\.conda\\envs\\redvenv\\Lib\\site-packages\\inspect_ai\\model\\_call_tools.py</span>:<span style=\"color: #0000ff; text-decoration-color: #0000ff\">88</span> in           <span style=\"color: #800000; text-decoration-color: #800000\">│</span>\n",
       "<span style=\"color: #800000; text-decoration-color: #800000\">│</span> <span style=\"color: #00ff00; text-decoration-color: #00ff00\">call_tool_task</span>                                                                                                 <span style=\"color: #800000; text-decoration-color: #800000\">│</span>\n",
       "<span style=\"color: #800000; text-decoration-color: #800000\">│</span>                                                                                                                <span style=\"color: #800000; text-decoration-color: #800000\">│</span>\n",
       "<span style=\"color: #800000; text-decoration-color: #800000\">│</span> <span style=\"color: #808000; text-decoration-color: #808000\">c:\\Users\\Daniil Anisimov\\.conda\\envs\\redvenv\\Lib\\site-packages\\inspect_ai\\model\\_call_tools.py</span>:<span style=\"color: #0000ff; text-decoration-color: #0000ff\">272</span> in          <span style=\"color: #800000; text-decoration-color: #800000\">│</span>\n",
       "<span style=\"color: #800000; text-decoration-color: #800000\">│</span> <span style=\"color: #00ff00; text-decoration-color: #00ff00\">call_tool</span>                                                                                                      <span style=\"color: #800000; text-decoration-color: #800000\">│</span>\n",
       "<span style=\"color: #800000; text-decoration-color: #800000\">│</span>                                                                                                                <span style=\"color: #800000; text-decoration-color: #800000\">│</span>\n",
       "<span style=\"color: #800000; text-decoration-color: #800000\">│</span> <span style=\"color: #808000; text-decoration-color: #808000\">c:\\Users\\Daniil Anisimov\\.conda\\envs\\redvenv\\Lib\\site-packages\\inspect_ai\\tool\\_tools\\_execute.py</span>:<span style=\"color: #0000ff; text-decoration-color: #0000ff\">47</span> in        <span style=\"color: #800000; text-decoration-color: #800000\">│</span>\n",
       "<span style=\"color: #800000; text-decoration-color: #800000\">│</span> <span style=\"color: #00ff00; text-decoration-color: #00ff00\">execute</span>                                                                                                        <span style=\"color: #800000; text-decoration-color: #800000\">│</span>\n",
       "<span style=\"color: #800000; text-decoration-color: #800000\">│</span>                                                                                                                <span style=\"color: #800000; text-decoration-color: #800000\">│</span>\n",
       "<span style=\"color: #800000; text-decoration-color: #800000\">│</span> <span style=\"color: #808000; text-decoration-color: #808000\">c:\\Users\\Daniil Anisimov\\.conda\\envs\\redvenv\\Lib\\site-packages\\inspect_ai\\util\\_sandbox\\local.py</span>:<span style=\"color: #0000ff; text-decoration-color: #0000ff\">70</span> in <span style=\"color: #00ff00; text-decoration-color: #00ff00\">exec</span>    <span style=\"color: #800000; text-decoration-color: #800000\">│</span>\n",
       "<span style=\"color: #800000; text-decoration-color: #800000\">│</span>                                                                                                                <span style=\"color: #800000; text-decoration-color: #800000\">│</span>\n",
       "<span style=\"color: #800000; text-decoration-color: #800000\">│</span> <span style=\"color: #808000; text-decoration-color: #808000\">c:\\Users\\Daniil Anisimov\\.conda\\envs\\redvenv\\Lib\\site-packages\\inspect_ai\\util\\_subprocess.py</span>:<span style=\"color: #0000ff; text-decoration-color: #0000ff\">225</span> in           <span style=\"color: #800000; text-decoration-color: #800000\">│</span>\n",
       "<span style=\"color: #800000; text-decoration-color: #800000\">│</span> <span style=\"color: #00ff00; text-decoration-color: #00ff00\">subprocess</span>                                                                                                     <span style=\"color: #800000; text-decoration-color: #800000\">│</span>\n",
       "<span style=\"color: #800000; text-decoration-color: #800000\">│</span>                                                                                                                <span style=\"color: #800000; text-decoration-color: #800000\">│</span>\n",
       "<span style=\"color: #800000; text-decoration-color: #800000\">│</span> <span style=\"color: #808000; text-decoration-color: #808000\">c:\\Users\\Daniil Anisimov\\.conda\\envs\\redvenv\\Lib\\site-packages\\inspect_ai\\util\\_subprocess.py</span>:<span style=\"color: #0000ff; text-decoration-color: #0000ff\">188</span> in           <span style=\"color: #800000; text-decoration-color: #800000\">│</span>\n",
       "<span style=\"color: #800000; text-decoration-color: #800000\">│</span> <span style=\"color: #00ff00; text-decoration-color: #00ff00\">run_command_timeout</span>                                                                                            <span style=\"color: #800000; text-decoration-color: #800000\">│</span>\n",
       "<span style=\"color: #800000; text-decoration-color: #800000\">│</span>                                                                                                                <span style=\"color: #800000; text-decoration-color: #800000\">│</span>\n",
       "<span style=\"color: #800000; text-decoration-color: #800000\">│</span> <span style=\"color: #808000; text-decoration-color: #808000\">c:\\Users\\Daniil Anisimov\\.conda\\envs\\redvenv\\Lib\\site-packages\\inspect_ai\\util\\_subprocess.py</span>:<span style=\"color: #0000ff; text-decoration-color: #0000ff\">117</span> in           <span style=\"color: #800000; text-decoration-color: #800000\">│</span>\n",
       "<span style=\"color: #800000; text-decoration-color: #800000\">│</span> <span style=\"color: #00ff00; text-decoration-color: #00ff00\">run_command</span>                                                                                                    <span style=\"color: #800000; text-decoration-color: #800000\">│</span>\n",
       "<span style=\"color: #800000; text-decoration-color: #800000\">│</span>                                                                                                                <span style=\"color: #800000; text-decoration-color: #800000\">│</span>\n",
       "<span style=\"color: #800000; text-decoration-color: #800000\">│</span> <span style=\"color: #808000; text-decoration-color: #808000\">c:\\Users\\Daniil Anisimov\\.conda\\envs\\redvenv\\Lib\\asyncio\\subprocess.py</span>:<span style=\"color: #0000ff; text-decoration-color: #0000ff\">224</span> in <span style=\"color: #00ff00; text-decoration-color: #00ff00\">create_subprocess_exec</span>           <span style=\"color: #800000; text-decoration-color: #800000\">│</span>\n",
       "<span style=\"color: #800000; text-decoration-color: #800000\">│</span>                                                                                                                <span style=\"color: #800000; text-decoration-color: #800000\">│</span>\n",
       "<span style=\"color: #800000; text-decoration-color: #800000\">│</span> <span style=\"color: #808000; text-decoration-color: #808000\">c:\\Users\\Daniil Anisimov\\.conda\\envs\\redvenv\\Lib\\asyncio\\base_events.py</span>:<span style=\"color: #0000ff; text-decoration-color: #0000ff\">1743</span> in <span style=\"color: #00ff00; text-decoration-color: #00ff00\">subprocess_exec</span>                <span style=\"color: #800000; text-decoration-color: #800000\">│</span>\n",
       "<span style=\"color: #800000; text-decoration-color: #800000\">│</span>                                                                                                                <span style=\"color: #800000; text-decoration-color: #800000\">│</span>\n",
       "<span style=\"color: #800000; text-decoration-color: #800000\">│</span> <span style=\"color: #808000; text-decoration-color: #808000\">c:\\Users\\Daniil Anisimov\\.conda\\envs\\redvenv\\Lib\\asyncio\\base_events.py</span>:<span style=\"color: #0000ff; text-decoration-color: #0000ff\">524</span> in <span style=\"color: #00ff00; text-decoration-color: #00ff00\">_make_subprocess_transport</span>      <span style=\"color: #800000; text-decoration-color: #800000\">│</span>\n",
       "<span style=\"color: #800000; text-decoration-color: #800000\">└────────────────────────────────────────────────────────────────────────────────────────────────────────────────┘</span>\n",
       "<span style=\"color: #ff0000; text-decoration-color: #ff0000; font-weight: bold\">NotImplementedError</span>\n",
       "</pre>\n"
      ],
      "text/plain": [
       "\u001b[31m┌─\u001b[0m\u001b[31m─────────────────────────────────────\u001b[0m\u001b[31m \u001b[0m\u001b[1;31mTraceback \u001b[0m\u001b[1;2;31m(most recent call last)\u001b[0m\u001b[31m \u001b[0m\u001b[31m──────────────────────────────────────\u001b[0m\u001b[31m─┐\u001b[0m\n",
       "\u001b[31m│\u001b[0m \u001b[33mc:\\Users\\Daniil Anisimov\\.conda\\envs\\redvenv\\Lib\\site-packages\\inspect_ai\\_eval\\task\\run.py\u001b[0m:\u001b[94m322\u001b[0m in \u001b[92mtask_run\u001b[0m    \u001b[31m│\u001b[0m\n",
       "\u001b[31m│\u001b[0m                                                                                                                \u001b[31m│\u001b[0m\n",
       "\u001b[31m│\u001b[0m \u001b[33mc:\\Users\\Daniil Anisimov\\.conda\\envs\\redvenv\\Lib\\asyncio\\tasks.py\u001b[0m:\u001b[94m385\u001b[0m in \u001b[92m__wakeup\u001b[0m                              \u001b[31m│\u001b[0m\n",
       "\u001b[31m│\u001b[0m                                                                                                                \u001b[31m│\u001b[0m\n",
       "\u001b[31m│\u001b[0m \u001b[33mc:\\Users\\Daniil Anisimov\\.conda\\envs\\redvenv\\Lib\\asyncio\\tasks.py\u001b[0m:\u001b[94m316\u001b[0m in \u001b[92m__step_run_and_handle_result\u001b[0m          \u001b[31m│\u001b[0m\n",
       "\u001b[31m│\u001b[0m                                                                                                                \u001b[31m│\u001b[0m\n",
       "\u001b[31m│\u001b[0m \u001b[33mc:\\Users\\Daniil Anisimov\\.conda\\envs\\redvenv\\Lib\\site-packages\\inspect_ai\\_eval\\task\\run.py\u001b[0m:\u001b[94m705\u001b[0m in             \u001b[31m│\u001b[0m\n",
       "\u001b[31m│\u001b[0m \u001b[92mtask_run_sample\u001b[0m                                                                                                \u001b[31m│\u001b[0m\n",
       "\u001b[31m│\u001b[0m                                                                                                                \u001b[31m│\u001b[0m\n",
       "\u001b[31m│\u001b[0m \u001b[33mc:\\Users\\Daniil Anisimov\\.conda\\envs\\redvenv\\Lib\\site-packages\\inspect_ai\\_eval\\task\\run.py\u001b[0m:\u001b[94m540\u001b[0m in             \u001b[31m│\u001b[0m\n",
       "\u001b[31m│\u001b[0m \u001b[92mhandle_error\u001b[0m                                                                                                   \u001b[31m│\u001b[0m\n",
       "\u001b[31m│\u001b[0m                                                                                                                \u001b[31m│\u001b[0m\n",
       "\u001b[31m│\u001b[0m \u001b[33mc:\\Users\\Daniil Anisimov\\.conda\\envs\\redvenv\\Lib\\site-packages\\inspect_ai\\_eval\\task\\error.py\u001b[0m:\u001b[94m22\u001b[0m in \u001b[92m__call__\u001b[0m   \u001b[31m│\u001b[0m\n",
       "\u001b[31m│\u001b[0m                                                                                                                \u001b[31m│\u001b[0m\n",
       "\u001b[31m│\u001b[0m \u001b[33mc:\\Users\\Daniil Anisimov\\.conda\\envs\\redvenv\\Lib\\site-packages\\inspect_ai\\_eval\\task\\run.py\u001b[0m:\u001b[94m634\u001b[0m in             \u001b[31m│\u001b[0m\n",
       "\u001b[31m│\u001b[0m \u001b[92mtask_run_sample\u001b[0m                                                                                                \u001b[31m│\u001b[0m\n",
       "\u001b[31m│\u001b[0m                                                                                                                \u001b[31m│\u001b[0m\n",
       "\u001b[31m│\u001b[0m \u001b[33mc:\\Users\\Daniil Anisimov\\.conda\\envs\\redvenv\\Lib\\site-packages\\inspect_ai\\_eval\\task\\run.py\u001b[0m:\u001b[94m540\u001b[0m in             \u001b[31m│\u001b[0m\n",
       "\u001b[31m│\u001b[0m \u001b[92mhandle_error\u001b[0m                                                                                                   \u001b[31m│\u001b[0m\n",
       "\u001b[31m│\u001b[0m                                                                                                                \u001b[31m│\u001b[0m\n",
       "\u001b[31m│\u001b[0m \u001b[33mc:\\Users\\Daniil Anisimov\\.conda\\envs\\redvenv\\Lib\\site-packages\\inspect_ai\\_eval\\task\\error.py\u001b[0m:\u001b[94m22\u001b[0m in \u001b[92m__call__\u001b[0m   \u001b[31m│\u001b[0m\n",
       "\u001b[31m│\u001b[0m                                                                                                                \u001b[31m│\u001b[0m\n",
       "\u001b[31m│\u001b[0m \u001b[33mc:\\Users\\Daniil Anisimov\\.conda\\envs\\redvenv\\Lib\\site-packages\\inspect_ai\\_eval\\task\\run.py\u001b[0m:\u001b[94m592\u001b[0m in             \u001b[31m│\u001b[0m\n",
       "\u001b[31m│\u001b[0m \u001b[92mtask_run_sample\u001b[0m                                                                                                \u001b[31m│\u001b[0m\n",
       "\u001b[31m│\u001b[0m                                                                                                                \u001b[31m│\u001b[0m\n",
       "\u001b[31m│\u001b[0m \u001b[33mc:\\Users\\Daniil Anisimov\\.conda\\envs\\redvenv\\Lib\\site-packages\\inspect_ai\\solver\\_plan.py\u001b[0m:\u001b[94m105\u001b[0m in \u001b[92m__call__\u001b[0m      \u001b[31m│\u001b[0m\n",
       "\u001b[31m│\u001b[0m                                                                                                                \u001b[31m│\u001b[0m\n",
       "\u001b[31m│\u001b[0m \u001b[33mc:\\Users\\Daniil Anisimov\\.conda\\envs\\redvenv\\Lib\\site-packages\\inspect_ai\\solver\\_basic_agent.py\u001b[0m:\u001b[94m188\u001b[0m in \u001b[92msolve\u001b[0m  \u001b[31m│\u001b[0m\n",
       "\u001b[31m│\u001b[0m                                                                                                                \u001b[31m│\u001b[0m\n",
       "\u001b[31m│\u001b[0m \u001b[33mc:\\Users\\Daniil Anisimov\\.conda\\envs\\redvenv\\Lib\\site-packages\\inspect_ai\\model\\_call_tools.py\u001b[0m:\u001b[94m193\u001b[0m in          \u001b[31m│\u001b[0m\n",
       "\u001b[31m│\u001b[0m \u001b[92mcall_tools\u001b[0m                                                                                                     \u001b[31m│\u001b[0m\n",
       "\u001b[31m│\u001b[0m                                                                                                                \u001b[31m│\u001b[0m\n",
       "\u001b[31m│\u001b[0m \u001b[33mc:\\Users\\Daniil Anisimov\\.conda\\envs\\redvenv\\Lib\\asyncio\\futures.py\u001b[0m:\u001b[94m291\u001b[0m in \u001b[92m__await__\u001b[0m                           \u001b[31m│\u001b[0m\n",
       "\u001b[31m│\u001b[0m                                                                                                                \u001b[31m│\u001b[0m\n",
       "\u001b[31m│\u001b[0m \u001b[33mc:\\Users\\Daniil Anisimov\\.conda\\envs\\redvenv\\Lib\\asyncio\\tasks.py\u001b[0m:\u001b[94m385\u001b[0m in \u001b[92m__wakeup\u001b[0m                              \u001b[31m│\u001b[0m\n",
       "\u001b[31m│\u001b[0m                                                                                                                \u001b[31m│\u001b[0m\n",
       "\u001b[31m│\u001b[0m \u001b[33mc:\\Users\\Daniil Anisimov\\.conda\\envs\\redvenv\\Lib\\asyncio\\futures.py\u001b[0m:\u001b[94m203\u001b[0m in \u001b[92mresult\u001b[0m                              \u001b[31m│\u001b[0m\n",
       "\u001b[31m│\u001b[0m                                                                                                                \u001b[31m│\u001b[0m\n",
       "\u001b[31m│\u001b[0m \u001b[33mc:\\Users\\Daniil Anisimov\\.conda\\envs\\redvenv\\Lib\\asyncio\\tasks.py\u001b[0m:\u001b[94m314\u001b[0m in \u001b[92m__step_run_and_handle_result\u001b[0m          \u001b[31m│\u001b[0m\n",
       "\u001b[31m│\u001b[0m                                                                                                                \u001b[31m│\u001b[0m\n",
       "\u001b[31m│\u001b[0m \u001b[33mc:\\Users\\Daniil Anisimov\\.conda\\envs\\redvenv\\Lib\\site-packages\\inspect_ai\\model\\_call_tools.py\u001b[0m:\u001b[94m88\u001b[0m in           \u001b[31m│\u001b[0m\n",
       "\u001b[31m│\u001b[0m \u001b[92mcall_tool_task\u001b[0m                                                                                                 \u001b[31m│\u001b[0m\n",
       "\u001b[31m│\u001b[0m                                                                                                                \u001b[31m│\u001b[0m\n",
       "\u001b[31m│\u001b[0m \u001b[33mc:\\Users\\Daniil Anisimov\\.conda\\envs\\redvenv\\Lib\\site-packages\\inspect_ai\\model\\_call_tools.py\u001b[0m:\u001b[94m272\u001b[0m in          \u001b[31m│\u001b[0m\n",
       "\u001b[31m│\u001b[0m \u001b[92mcall_tool\u001b[0m                                                                                                      \u001b[31m│\u001b[0m\n",
       "\u001b[31m│\u001b[0m                                                                                                                \u001b[31m│\u001b[0m\n",
       "\u001b[31m│\u001b[0m \u001b[33mc:\\Users\\Daniil Anisimov\\.conda\\envs\\redvenv\\Lib\\site-packages\\inspect_ai\\tool\\_tools\\_execute.py\u001b[0m:\u001b[94m47\u001b[0m in        \u001b[31m│\u001b[0m\n",
       "\u001b[31m│\u001b[0m \u001b[92mexecute\u001b[0m                                                                                                        \u001b[31m│\u001b[0m\n",
       "\u001b[31m│\u001b[0m                                                                                                                \u001b[31m│\u001b[0m\n",
       "\u001b[31m│\u001b[0m \u001b[33mc:\\Users\\Daniil Anisimov\\.conda\\envs\\redvenv\\Lib\\site-packages\\inspect_ai\\util\\_sandbox\\local.py\u001b[0m:\u001b[94m70\u001b[0m in \u001b[92mexec\u001b[0m    \u001b[31m│\u001b[0m\n",
       "\u001b[31m│\u001b[0m                                                                                                                \u001b[31m│\u001b[0m\n",
       "\u001b[31m│\u001b[0m \u001b[33mc:\\Users\\Daniil Anisimov\\.conda\\envs\\redvenv\\Lib\\site-packages\\inspect_ai\\util\\_subprocess.py\u001b[0m:\u001b[94m225\u001b[0m in           \u001b[31m│\u001b[0m\n",
       "\u001b[31m│\u001b[0m \u001b[92msubprocess\u001b[0m                                                                                                     \u001b[31m│\u001b[0m\n",
       "\u001b[31m│\u001b[0m                                                                                                                \u001b[31m│\u001b[0m\n",
       "\u001b[31m│\u001b[0m \u001b[33mc:\\Users\\Daniil Anisimov\\.conda\\envs\\redvenv\\Lib\\site-packages\\inspect_ai\\util\\_subprocess.py\u001b[0m:\u001b[94m188\u001b[0m in           \u001b[31m│\u001b[0m\n",
       "\u001b[31m│\u001b[0m \u001b[92mrun_command_timeout\u001b[0m                                                                                            \u001b[31m│\u001b[0m\n",
       "\u001b[31m│\u001b[0m                                                                                                                \u001b[31m│\u001b[0m\n",
       "\u001b[31m│\u001b[0m \u001b[33mc:\\Users\\Daniil Anisimov\\.conda\\envs\\redvenv\\Lib\\site-packages\\inspect_ai\\util\\_subprocess.py\u001b[0m:\u001b[94m117\u001b[0m in           \u001b[31m│\u001b[0m\n",
       "\u001b[31m│\u001b[0m \u001b[92mrun_command\u001b[0m                                                                                                    \u001b[31m│\u001b[0m\n",
       "\u001b[31m│\u001b[0m                                                                                                                \u001b[31m│\u001b[0m\n",
       "\u001b[31m│\u001b[0m \u001b[33mc:\\Users\\Daniil Anisimov\\.conda\\envs\\redvenv\\Lib\\asyncio\\subprocess.py\u001b[0m:\u001b[94m224\u001b[0m in \u001b[92mcreate_subprocess_exec\u001b[0m           \u001b[31m│\u001b[0m\n",
       "\u001b[31m│\u001b[0m                                                                                                                \u001b[31m│\u001b[0m\n",
       "\u001b[31m│\u001b[0m \u001b[33mc:\\Users\\Daniil Anisimov\\.conda\\envs\\redvenv\\Lib\\asyncio\\base_events.py\u001b[0m:\u001b[94m1743\u001b[0m in \u001b[92msubprocess_exec\u001b[0m                \u001b[31m│\u001b[0m\n",
       "\u001b[31m│\u001b[0m                                                                                                                \u001b[31m│\u001b[0m\n",
       "\u001b[31m│\u001b[0m \u001b[33mc:\\Users\\Daniil Anisimov\\.conda\\envs\\redvenv\\Lib\\asyncio\\base_events.py\u001b[0m:\u001b[94m524\u001b[0m in \u001b[92m_make_subprocess_transport\u001b[0m      \u001b[31m│\u001b[0m\n",
       "\u001b[31m└────────────────────────────────────────────────────────────────────────────────────────────────────────────────┘\u001b[0m\n",
       "\u001b[1;91mNotImplementedError\u001b[0m\n"
      ]
     },
     "metadata": {},
     "output_type": "display_data"
    },
    {
     "data": {
      "text/html": [
       "<pre style=\"white-space:pre;overflow-x:auto;line-height:normal;font-family:Menlo,'DejaVu Sans Mono',consolas,'Courier New',monospace\"></pre>\n"
      ],
      "text/plain": []
     },
     "metadata": {},
     "output_type": "display_data"
    }
   ],
   "source": [
    "eval(hello_world_challenge,\n",
    "     model=\"openai/gpt-4o-mini\",\n",
    "     )"
   ]
  },
  {
   "cell_type": "code",
   "execution_count": null,
   "metadata": {},
   "outputs": [],
   "source": []
  }
 ],
 "metadata": {
  "kernelspec": {
   "display_name": "redvenv",
   "language": "python",
   "name": "python3"
  },
  "language_info": {
   "codemirror_mode": {
    "name": "ipython",
    "version": 3
   },
   "file_extension": ".py",
   "mimetype": "text/x-python",
   "name": "python",
   "nbconvert_exporter": "python",
   "pygments_lexer": "ipython3",
   "version": "3.12.7"
  }
 },
 "nbformat": 4,
 "nbformat_minor": 2
}
