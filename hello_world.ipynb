{
 "cells": [
  {
   "cell_type": "code",
   "execution_count": null,
   "metadata": {},
   "outputs": [],
   "source": [
    "from inspect_ai import eval, Task, task\n",
    "from inspect_ai.dataset import Sample\n",
    "from inspect_ai.scorer import Score, Target, accuracy, scorer\n",
    "from inspect_ai.solver import Plan, TaskState, generate, use_tools, basic_agent\n",
    "from inspect_ai.tool import bash\n",
    "from inspect_ai.util import sandbox"
   ]
  },
  {
   "cell_type": "code",
   "execution_count": null,
   "metadata": {},
   "outputs": [],
   "source": [
    "@scorer(metrics=[accuracy()])\n",
    "def check_file_exists():\n",
    "    async def score(state: TaskState, target: Target):\n",
    "        try:\n",
    "            output = await sandbox().exec('ls')\n",
    "            print(output)\n",
    "            _ = await sandbox().read_file(target.text)\n",
    "            exists = True\n",
    "        except FileNotFoundError:\n",
    "            exists = False\n",
    "        return Score(value=1 if exists else 0)\n",
    "\n",
    "    return score"
   ]
  },
  {
   "cell_type": "code",
   "execution_count": null,
   "metadata": {},
   "outputs": [],
   "source": [
    "agent = basic_agent(tools=[bash()])"
   ]
  },
  {
   "cell_type": "code",
   "execution_count": null,
   "metadata": {},
   "outputs": [],
   "source": [
    "@task\n",
    "def hello_world_challenge() -> Task:\n",
    "    return Task(\n",
    "        dataset=[\n",
    "            Sample(\n",
    "                input=(\n",
    "                    \"Create a file called `hello-world.txt`. \"\n",
    "                    \"When you have finished, submit the string 'submit'.\"  # Without this, the agent is liable to loop until it hits its limits.\n",
    "                ),\n",
    "                target=\"hello-world.txt\",\n",
    "            )\n",
    "        ],\n",
    "        # solver=[use_tools([bash()]), generate()],\n",
    "        solver=agent,\n",
    "        sandbox=\"local\",\n",
    "        scorer=check_file_exists(),\n",
    "    )"
   ]
  },
  {
   "cell_type": "code",
   "execution_count": null,
   "metadata": {},
   "outputs": [],
   "source": [
    "eval(hello_world_challenge,\n",
    "     model=\"openai/gpt-4o-mini\",\n",
    "     )"
   ]
  }
 ],
 "metadata": {
  "language_info": {
   "name": "python"
  }
 },
 "nbformat": 4,
 "nbformat_minor": 2
}
